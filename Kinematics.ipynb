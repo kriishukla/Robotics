{
  "nbformat": 4,
  "nbformat_minor": 0,
  "metadata": {
    "colab": {
      "provenance": []
    },
    "kernelspec": {
      "name": "python3",
      "display_name": "Python 3"
    },
    "language_info": {
      "name": "python"
    }
  },
  "cells": [
    {
      "cell_type": "code",
      "execution_count": null,
      "metadata": {
        "colab": {
          "base_uri": "https://localhost:8080/"
        },
        "id": "dBC-4vMEnL9K",
        "outputId": "82ca349f-d2d6-42f4-d620-b5a2238e64c0"
      },
      "outputs": [
        {
          "output_type": "stream",
          "name": "stdout",
          "text": [
            "Enter the length of link l1: 2\n",
            "Enter the length of link l2: 1.5\n",
            "Enter the x-coordinate of the desired end-effector position: 2.79\n",
            "Enter the y-coordinate of the desired end-effector position: 2.06\n",
            "Joint angles:\n",
            "Theta1: 29.74210749973855 degrees\n",
            "Theta2: 15.64522533976935 degrees\n"
          ]
        }
      ],
      "source": [
        "import math\n",
        "\n",
        "def inverse_kinematics(l1, l2, x, y):\n",
        "    # Calculate theta2\n",
        "    theta2 = math.acos((x**2 + y**2 - l1**2 - l2**2) / (2 * l1 * l2))\n",
        "\n",
        "    # Calculate theta1\n",
        "    theta1 = math.atan2(y, x) - math.atan2((l2 * math.sin(theta2)), (l1 + l2 * math.cos(theta2)))\n",
        "\n",
        "    return math.degrees(theta1), math.degrees(theta2)\n",
        "\n",
        "# Input the lengths of the links and the desired end-effector position (x, y)\n",
        "l1 = float(input(\"Enter the length of link l1: \"))\n",
        "l2 = float(input(\"Enter the length of link l2: \"))\n",
        "x = float(input(\"Enter the x-coordinate of the desired end-effector position: \"))\n",
        "y = float(input(\"Enter the y-coordinate of the desired end-effector position: \"))\n",
        "\n",
        "# Calculate the joint angles using inverse kinematics\n",
        "theta1, theta2 = inverse_kinematics(l1, l2, x, y)\n",
        "\n",
        "# Print the joint angles\n",
        "print(\"Joint angles:\")\n",
        "print(\"Theta1:\", theta1, \"degrees\")\n",
        "print(\"Theta2:\", theta2, \"degrees\")\n"
      ]
    }
  ]
}